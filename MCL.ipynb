{
  "cells": [
    {
      "cell_type": "code",
      "execution_count": null,
      "metadata": {
        "id": "PnveNWelK4ue"
      },
      "outputs": [],
      "source": [
        "import numpy as np\n",
        "import matplotlib.pyplot as plt\n",
        "from matplotlib import rcParams"
      ]
    },
    {
      "cell_type": "code",
      "execution_count": null,
      "metadata": {
        "id": "IUe7qQQ9K7yG"
      },
      "outputs": [],
      "source": [
        "N = 300\n",
        "mean = np.array([0,0])\n",
        "covariance = np.diag([9,9])\n",
        "\n",
        "X_start = mean"
      ]
    },
    {
      "cell_type": "code",
      "execution_count": null,
      "metadata": {
        "id": "F-PRA0dUL5xF"
      },
      "outputs": [],
      "source": [
        "def set_plot_style():\n",
        "  plt.style.use('seaborn-dark-palette')\n",
        "  rcParams['mathtext.fontset'] = 'cm'\n",
        "  rcParams.update({'font.size': 12})\n",
        "\n",
        "def format_plot(x, y):  \n",
        "  plt.grid(False)\n",
        "  plt.xlabel(x, fontsize=20)\n",
        "  plt.ylabel(y, fontsize=20)\n",
        "\n",
        "def finalize_plot(shape=(1, 1)):\n",
        "  plt.gcf().set_size_inches(\n",
        "    shape[0] * 1.5 * plt.gcf().get_size_inches()[1], \n",
        "    shape[1] * 1.5 * plt.gcf().get_size_inches()[1])\n",
        "  plt.tight_layout()"
      ]
    },
    {
      "cell_type": "code",
      "execution_count": null,
      "metadata": {
        "id": "XJfUIsDWK8GL"
      },
      "outputs": [],
      "source": [
        "def particle_samples(N_samples, mean, covariance, distribution=None):\n",
        "  return np.random.multivariate_normal(mean, covariance, size=N_samples)\n",
        "\n",
        "def plot_particle_samples(R, size=2, limits=None, grid=False, axis=True):\n",
        "  \n",
        "  plt.scatter(R[:, 0], R[:, 1], alpha=0.5, s=size * 20, c='blue')\n",
        "  \n",
        "  if not limits:\n",
        "\n",
        "    minRx = np.min(R[:, 0]); minRy = np.min(R[:, 1]);\n",
        "    maxRx = np.max(R[:, 0]); maxRy = np.max(R[:, 1]);\n",
        "    \n",
        "    totalx = maxRx - minRy\n",
        "    totaly = maxRy - minRy\n",
        "\n",
        "    plt.xlim([minRx - totalx / 10, maxRx + totalx / 10])\n",
        "    plt.ylim([minRy - totaly / 10, maxRy + totaly / 10])\n",
        "\n",
        "  else:\n",
        "    plt.xlim([limits[0,0], limits[0,1]])\n",
        "    plt.ylim([limits[1,0], limits[1,1]])\n",
        "  \n",
        "  if grid:\n",
        "    plt.grid(grid)\n",
        "\n",
        "  if not axis:\n",
        "    plt.axis(\"off\")\n",
        "\n",
        "  plt.title(\"Particle samples over Map\")\n",
        "  plt.xlabel(r\"$X$\", fontsize=16)\n",
        "  plt.ylabel(r\"$Y$\", fontsize=16)"
      ]
    },
    {
      "cell_type": "code",
      "execution_count": null,
      "metadata": {
        "colab": {
          "base_uri": "https://localhost:8080/"
        },
        "id": "cLG-mqmtLVm_",
        "outputId": "edb5c52c-73af-4e84-b4a0-e38f8efe0749"
      },
      "outputs": [],
      "source": [
        "set_plot_style()\n",
        "Particle_states = particle_samples(N, mean, covariance)"
      ]
    },
    {
      "cell_type": "code",
      "execution_count": null,
      "metadata": {
        "colab": {
          "base_uri": "https://localhost:8080/",
          "height": 500
        },
        "id": "gtEg2pQaOACn",
        "outputId": "f3f897e4-7457-4d05-86b2-ae62b36eb583"
      },
      "outputs": [],
      "source": [
        "plot_particle_samples(Particle_states, size=1.0, axis=True)\n",
        "plt.plot(X_start[0], X_start[1], \"*\", ms=30)"
      ]
    },
    {
      "cell_type": "code",
      "execution_count": null,
      "metadata": {
        "id": "5GSh4ackQ5Ri"
      },
      "outputs": [],
      "source": [
        "X_start[0] = 3 # measurement\n",
        "def likelihood_fn(R, sigma, X):\n",
        "  variance = sigma ** 2 \n",
        "  return np.exp(-0.5*(R[:,0]-X[0])**2/variance)"
      ]
    },
    {
      "cell_type": "code",
      "execution_count": null,
      "metadata": {
        "id": "kBI1UB4_TftN"
      },
      "outputs": [],
      "source": [
        "def weights_fn(R, sigma, X):\n",
        "  return likelihood_fn(R, sigma, X)"
      ]
    },
    {
      "cell_type": "code",
      "execution_count": null,
      "metadata": {
        "id": "8_K3vQ9rRFqc"
      },
      "outputs": [],
      "source": [
        "weights = weights_fn(Particle_states, 1, X_start)"
      ]
    },
    {
      "cell_type": "code",
      "execution_count": null,
      "metadata": {
        "colab": {
          "base_uri": "https://localhost:8080/",
          "height": 500
        },
        "id": "uA-KeY82RMmS",
        "outputId": "e7e647ad-3113-4356-c2f7-d6c66e643fa0"
      },
      "outputs": [],
      "source": [
        "plot_particle_samples(Particle_states, size=weights, axis=True)\n",
        "plt.plot(X_start[0], X_start[1], \"*\", ms=30)"
      ]
    },
    {
      "cell_type": "code",
      "execution_count": null,
      "metadata": {
        "id": "fp-KtkSTS83N"
      },
      "outputs": [],
      "source": [
        "# Simulate all samples forward for one second, using 10 Euler steps:\n",
        "V = 5\n",
        "predictions = np.copy(Particle_states)\n",
        "X_new = np.copy(X_start)\n",
        "for i in range(10):\n",
        "  x = predictions[:,0]\n",
        "  y = predictions[:,1]\n",
        "  norm = np.sqrt(x**2 + y**2)\n",
        "  predictions[:,0] += 0.1*y*V/norm\n",
        "  predictions[:,1] += 0.1*x*V/norm\n",
        "\n",
        "  Rx = X_new[0]\n",
        "  Ry = X_new[1]\n",
        "  norm_particle =  np.sqrt(Rx**2 + Ry**2)\n",
        "  X_new[0] += 0.1*Ry*V/norm_particle\n",
        "  X_new[1] += 0.1*Rx*V/norm_particle"
      ]
    },
    {
      "cell_type": "code",
      "execution_count": null,
      "metadata": {
        "colab": {
          "base_uri": "https://localhost:8080/",
          "height": 446
        },
        "id": "aGErOSx5Wvij",
        "outputId": "e3dcde9b-c5ec-4f78-a572-e62ab3f3d439"
      },
      "outputs": [],
      "source": [
        "plot_particle_samples(predictions, size=weights, axis=False)\n",
        "plt.plot(X_new[0], X_new[1], \"*\", ms=30)"
      ]
    },
    {
      "cell_type": "code",
      "execution_count": null,
      "metadata": {
        "id": "AQMnN4znW092"
      },
      "outputs": [],
      "source": [
        "sample_indices = np.random.choice(N,p=weights/np.sum(weights),size=N)\n",
        "samples = predictions[sample_indices]"
      ]
    },
    {
      "cell_type": "code",
      "execution_count": null,
      "metadata": {
        "id": "6YnDLsHcXFMZ"
      },
      "outputs": [],
      "source": [
        "weights = weights_fn(samples, 1, X_new)"
      ]
    },
    {
      "cell_type": "code",
      "execution_count": null,
      "metadata": {
        "colab": {
          "base_uri": "https://localhost:8080/",
          "height": 446
        },
        "id": "zTby5tf0XPlP",
        "outputId": "20426419-3f1c-44bc-c543-652f678ed87e"
      },
      "outputs": [],
      "source": [
        "plot_particle_samples(samples, size=weights, axis=False)\n",
        "plt.plot(X_new[0], X_new[1], \"*\", ms=30, alpha=0.5)"
      ]
    }
  ],
  "metadata": {
    "colab": {
      "provenance": []
    },
    "kernelspec": {
      "display_name": "Python 3",
      "name": "python3"
    },
    "language_info": {
      "name": "python"
    }
  },
  "nbformat": 4,
  "nbformat_minor": 0
}
